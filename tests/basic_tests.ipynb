{
 "cells": [
  {
   "cell_type": "code",
   "execution_count": 1,
   "metadata": {},
   "outputs": [
    {
     "name": "stderr",
     "output_type": "stream",
     "text": [
      "c:\\Users\\rroussea\\miniconda3\\envs\\drawpy_env\\lib\\site-packages\\scipy\\__init__.py:146: UserWarning: A NumPy version >=1.16.5 and <1.23.0 is required for this version of SciPy (detected version 1.23.5\n",
      "  warnings.warn(f\"A NumPy version >={np_minversion} and <{np_maxversion}\"\n"
     ]
    }
   ],
   "source": [
    "from HFSSdrawpy import Modeler, Body\n",
    "import sys\n",
    "sys.path.append('C:/Users/rroussea/Documents/GitHub/FCT/FCT-0001-01')\n",
    "from fct import FCT"
   ]
  },
  {
   "cell_type": "code",
   "execution_count": 2,
   "metadata": {},
   "outputs": [
    {
     "name": "stdout",
     "output_type": "stream",
     "text": [
      "gdspy_version :  1.6.12\n"
     ]
    }
   ],
   "source": [
    "pm = Modeler('gds')\n",
    "chip = Body(pm, 'chip')\n",
    "fct = FCT(file_name=\"C:/Users/rroussea/Documents/GitHub/FCT/FCT-0001-01/fct_design_param.yaml\",\n",
    "                modeler=pm, name=\"FCT\")"
   ]
  },
  {
   "cell_type": "code",
   "execution_count": 3,
   "metadata": {},
   "outputs": [
    {
     "name": "stdout",
     "output_type": "stream",
     "text": [
      "file_name: C:/Users/rroussea/Documents/GitHub/FCT/FCT-0001-01/fct_design_param.yaml,\n",
      "name: FCT,\n",
      "inductance_map_repository__np: ,\n",
      "filedict__np: c:\\Users\\rroussea\\Documents\\GitHub\\FCT\\FCT-0001-01\\SPEC_A-design_updated.txt,\n",
      "dist_buf_mem: 5.0000e-04,\n",
      "fillet: 5.0000e-06,\n",
      "fp__np: 35GHz,\n",
      "ats:\n",
      "  name: FCT_ats,\n",
      "  height: 3.0000e-05,\n",
      "  width: 3.0000e-05,\n",
      "  array:\n",
      "    name: FCT_ats_array,\n",
      "    l_val: 7.8744nH,\n",
      "    n_bridge__np: 5,\n",
      "    height: 3.0000e-05,\n",
      "    fp__np: 35GHz,\n",
      "  junction:\n",
      "    name: FCT_ats_junction,\n",
      "    l_val: 10nH,\n",
      "    width: 3.0000e-05,\n",
      "    height: 3.0000e-05,\n",
      "  flux_line:\n",
      "    name: FCT_ats_flux_line,\n",
      "    width: 1.0000e-05,\n",
      "    coupling_dist: 5.0000e-06,\n",
      "buffer:\n",
      "  name: FCT_buffer,\n",
      "  pad:\n",
      "    name: FCT_buffer_pad,\n",
      "    width: 5.0000e-04,\n",
      "    height: 2.5000e-04,\n",
      "    cutout_gap: 3.0000e-05,\n",
      "    fillet: 5.0000e-06,\n",
      "    dist_buf_mem: 5.0000e-04,\n",
      "  port:\n",
      "    name: FCT_buffer_port,\n",
      "    coupling_dist: 2.0000e-05,\n",
      "    coupling_offset_y: 0.0000e+00,\n",
      "    track: 1.0000e-05,\n",
      "    gap: 5.0000e-06,\n",
      "    safe_dist: 2.5000e-04,\n",
      "    fillet: 1.0000e-04,\n",
      "    filter:\n",
      "      name: FCT_buffer_port_filter,\n",
      "      outport_dist_end: 5.5000e-04,\n",
      "      n_meander__np: 4,\n",
      "      width_meander: 2.5000e-04,\n",
      "      end_port_dist: 3.0000e-03,\n",
      "      length_out_filter: 5.0000e-04,\n",
      "      track: 1.0000e-05,\n",
      "      gap: 5.0000e-06,\n",
      "      fillet: 1.0000e-04,\n",
      "memory:\n",
      "  name: FCT_memory,\n",
      "  connection_width: 5.0000e-06,\n",
      "  connection_cutout_gap: 3.0000e-05,\n",
      "  dist_buf_mem: 5.0000e-04,\n",
      "  pad:\n",
      "    name: FCT_memory_pad,\n",
      "    cutout_gap: 3.0000e-05,\n",
      "    type_pad__np: circle,\n",
      "    dist_buf_mem: 5.0000e-04,\n",
      "    connection_width: 5.0000e-06,\n",
      "    connection_cutout_gap: 3.0000e-05,\n",
      "    circle_pad:\n",
      "      name: FCT_memory_pad_circle_pad,\n",
      "      n_steps__np: 2,\n",
      "      radius: 2.0000e-03,\n",
      "      rotation_angle__n: 1.2500e-01,\n",
      "      drawned__np: [1, 1, 0, 1],\n",
      "      cutout_gap: 3.0000e-05,\n",
      "    flower_pad:\n",
      "      name: FCT_memory_pad_flower_pad,\n",
      "      center_radius: 5.0000e-04,\n",
      "      petal_length: 1.0000e-03,\n",
      "      angle_no_petal__np: 0.25,\n",
      "      n_petal__np: 15,\n",
      "      cutout_gap: 3.0000e-05,\n",
      "      fillet: 5.0000e-06,\n",
      "    shark_pad:\n",
      "      name: FCT_memory_pad_shark_pad,\n",
      "      n_teeth__np: 12,\n",
      "      teeth_length: 7.4500e-04,\n",
      "      total_height: 1.0000e-03,\n",
      "      total_width: 2.0000e-03,\n",
      "      cutout_gap: 3.0000e-05,\n",
      "      fillet: 5.0000e-06,\n",
      "  array:\n",
      "    name: FCT_memory_array,\n",
      "    l_val: 6.6533nH,\n",
      "    dist_con: 5.0000e-05,\n",
      "    n_bridge__np: 10,\n",
      "    contact_pad: 1.0000e-05,\n",
      "    fp__np: 35GHz\n"
     ]
    }
   ],
   "source": [
    "print(fct)"
   ]
  },
  {
   "cell_type": "code",
   "execution_count": 4,
   "metadata": {},
   "outputs": [
    {
     "data": {
      "text/plain": [
       "{'inductance_map_repository__np': str,\n",
       " 'filedict__np': str,\n",
       " 'ats': fct.ATS,\n",
       " 'buffer': fct.Buffer,\n",
       " 'memory': fct.Memory,\n",
       " 'dist_buf_mem': str,\n",
       " 'fillet': str,\n",
       " 'fp__np': str}"
      ]
     },
     "execution_count": 4,
     "metadata": {},
     "output_type": "execute_result"
    }
   ],
   "source": [
    "fct.__annotations__"
   ]
  },
  {
   "cell_type": "code",
   "execution_count": null,
   "metadata": {},
   "outputs": [],
   "source": []
  }
 ],
 "metadata": {
  "kernelspec": {
   "display_name": "drawpy_env",
   "language": "python",
   "name": "python3"
  },
  "language_info": {
   "codemirror_mode": {
    "name": "ipython",
    "version": 3
   },
   "file_extension": ".py",
   "mimetype": "text/x-python",
   "name": "python",
   "nbconvert_exporter": "python",
   "pygments_lexer": "ipython3",
   "version": "3.10.9"
  },
  "orig_nbformat": 4,
  "vscode": {
   "interpreter": {
    "hash": "f1d085607c2a775531a2aaa7b3b7e22d4b045d85b5c4c1c5d17736598f344375"
   }
  }
 },
 "nbformat": 4,
 "nbformat_minor": 2
}
